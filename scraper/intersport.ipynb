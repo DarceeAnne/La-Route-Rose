{
 "cells": [
  {
   "cell_type": "markdown",
   "metadata": {},
   "source": [
    "# Scraping Bike Information - Intersport"
   ]
  },
  {
   "cell_type": "code",
   "execution_count": 10,
   "metadata": {},
   "outputs": [],
   "source": [
    "from selenium import webdriver\n",
    "from selenium.webdriver.common.by import By\n",
    "\n",
    "# Initialize Chrome WebDriver\n",
    "driver = webdriver.Chrome()\n",
    "\n",
    "# URL to scrape\n",
    "url = \"https://www.intersport.fr/sports/cycle/velos/velos-femme/\" \n",
    "\n",
    "# List to store all product information\n",
    "bike_clothing_information_women = []\n",
    "\n",
    "# Loop through all pages\n",
    "for page_number in range(1, 3):  # 2 pages in total\n",
    "    # Construct page URL\n",
    "    page_url = f\"{base_url}?page={page_number}\"\n",
    "    \n",
    "    # Navigate to the page\n",
    "    driver.get(page_url)\n",
    "    \n",
    "    # Wait for the page to load\n",
    "    driver.implicitly_wait(10)  # Adjust the wait time as needed\n",
    "\n",
    "# Navigate to the page\n",
    "driver.get(url)\n",
    "\n",
    "# Find the product boxes\n",
    "product_boxes = driver.find_elements(By.CLASS_NAME, \"product-box__images__inner\")\n",
    "\n",
    "# Extract the product names\n",
    "product_names = []\n",
    "for box in product_boxes:\n",
    "    link = box.find_element(By.TAG_NAME, \"a\")\n",
    "    product_name = link.get_attribute(\"title\")\n",
    "    product_names.append(product_name)\n",
    "\n",
    "# Print the product names\n",
    "for name in product_names:\n",
    "    print(name)\n",
    "\n",
    "# Quit the WebDriver\n",
    "driver.quit()\n"
   ]
  },
  {
   "cell_type": "code",
   "execution_count": 13,
   "metadata": {},
   "outputs": [
    {
     "ename": "NoSuchWindowException",
     "evalue": "Message: no such window: target window already closed\nfrom unknown error: web view not found\n  (Session info: chrome=123.0.6312.123)\nStacktrace:\n\tGetHandleVerifier [0x00007FF6E6F07032+63090]\n\t(No symbol) [0x00007FF6E6E72C82]\n\t(No symbol) [0x00007FF6E6D0EC65]\n\t(No symbol) [0x00007FF6E6CECA7C]\n\t(No symbol) [0x00007FF6E6D7D687]\n\t(No symbol) [0x00007FF6E6D92AC1]\n\t(No symbol) [0x00007FF6E6D76D83]\n\t(No symbol) [0x00007FF6E6D483A8]\n\t(No symbol) [0x00007FF6E6D49441]\n\tGetHandleVerifier [0x00007FF6E73025AD+4238317]\n\tGetHandleVerifier [0x00007FF6E733F70D+4488525]\n\tGetHandleVerifier [0x00007FF6E73379EF+4456495]\n\tGetHandleVerifier [0x00007FF6E6FE0576+953270]\n\t(No symbol) [0x00007FF6E6E7E54F]\n\t(No symbol) [0x00007FF6E6E79224]\n\t(No symbol) [0x00007FF6E6E7935B]\n\t(No symbol) [0x00007FF6E6E69B94]\n\tBaseThreadInitThunk [0x00007FFD19AA257D+29]\n\tRtlUserThreadStart [0x00007FFD1AFAAA48+40]\n",
     "output_type": "error",
     "traceback": [
      "\u001b[1;31m---------------------------------------------------------------------------\u001b[0m",
      "\u001b[1;31mNoSuchWindowException\u001b[0m                     Traceback (most recent call last)",
      "Cell \u001b[1;32mIn[13], line 30\u001b[0m\n\u001b[0;32m     27\u001b[0m product_names \u001b[38;5;241m=\u001b[39m driver\u001b[38;5;241m.\u001b[39mfind_elements(By\u001b[38;5;241m.\u001b[39mCLASS_NAME, \u001b[38;5;124m\"\u001b[39m\u001b[38;5;124mproduct-box__title\u001b[39m\u001b[38;5;124m\"\u001b[39m)\n\u001b[0;32m     29\u001b[0m \u001b[38;5;66;03m# Find all elements with the specified class for product prices\u001b[39;00m\n\u001b[1;32m---> 30\u001b[0m product_prices \u001b[38;5;241m=\u001b[39m driver\u001b[38;5;241m.\u001b[39mfind_elements(By\u001b[38;5;241m.\u001b[39mCLASS_NAME, \u001b[38;5;124m'\u001b[39m\u001b[38;5;124mproduct-box__price\u001b[39m\u001b[38;5;124m'\u001b[39m)\n\u001b[0;32m     32\u001b[0m \u001b[38;5;66;03m# Extract the product information\u001b[39;00m\n\u001b[0;32m     33\u001b[0m \u001b[38;5;28;01mfor\u001b[39;00m name, price \u001b[38;5;129;01min\u001b[39;00m \u001b[38;5;28mzip\u001b[39m(product_names, product_prices):\n",
      "File \u001b[1;32mc:\\Users\\darce\\anaconda3\\Lib\\site-packages\\selenium\\webdriver\\remote\\webdriver.py:771\u001b[0m, in \u001b[0;36mWebDriver.find_elements\u001b[1;34m(self, by, value)\u001b[0m\n\u001b[0;32m    767\u001b[0m     value \u001b[38;5;241m=\u001b[39m \u001b[38;5;124mf\u001b[39m\u001b[38;5;124m'\u001b[39m\u001b[38;5;124m[name=\u001b[39m\u001b[38;5;124m\"\u001b[39m\u001b[38;5;132;01m{\u001b[39;00mvalue\u001b[38;5;132;01m}\u001b[39;00m\u001b[38;5;124m\"\u001b[39m\u001b[38;5;124m]\u001b[39m\u001b[38;5;124m'\u001b[39m\n\u001b[0;32m    769\u001b[0m \u001b[38;5;66;03m# Return empty list if driver returns null\u001b[39;00m\n\u001b[0;32m    770\u001b[0m \u001b[38;5;66;03m# See https://github.com/SeleniumHQ/selenium/issues/4555\u001b[39;00m\n\u001b[1;32m--> 771\u001b[0m \u001b[38;5;28;01mreturn\u001b[39;00m \u001b[38;5;28mself\u001b[39m\u001b[38;5;241m.\u001b[39mexecute(Command\u001b[38;5;241m.\u001b[39mFIND_ELEMENTS, {\u001b[38;5;124m\"\u001b[39m\u001b[38;5;124musing\u001b[39m\u001b[38;5;124m\"\u001b[39m: by, \u001b[38;5;124m\"\u001b[39m\u001b[38;5;124mvalue\u001b[39m\u001b[38;5;124m\"\u001b[39m: value})[\u001b[38;5;124m\"\u001b[39m\u001b[38;5;124mvalue\u001b[39m\u001b[38;5;124m\"\u001b[39m] \u001b[38;5;129;01mor\u001b[39;00m []\n",
      "File \u001b[1;32mc:\\Users\\darce\\anaconda3\\Lib\\site-packages\\selenium\\webdriver\\remote\\webdriver.py:347\u001b[0m, in \u001b[0;36mWebDriver.execute\u001b[1;34m(self, driver_command, params)\u001b[0m\n\u001b[0;32m    345\u001b[0m response \u001b[38;5;241m=\u001b[39m \u001b[38;5;28mself\u001b[39m\u001b[38;5;241m.\u001b[39mcommand_executor\u001b[38;5;241m.\u001b[39mexecute(driver_command, params)\n\u001b[0;32m    346\u001b[0m \u001b[38;5;28;01mif\u001b[39;00m response:\n\u001b[1;32m--> 347\u001b[0m     \u001b[38;5;28mself\u001b[39m\u001b[38;5;241m.\u001b[39merror_handler\u001b[38;5;241m.\u001b[39mcheck_response(response)\n\u001b[0;32m    348\u001b[0m     response[\u001b[38;5;124m\"\u001b[39m\u001b[38;5;124mvalue\u001b[39m\u001b[38;5;124m\"\u001b[39m] \u001b[38;5;241m=\u001b[39m \u001b[38;5;28mself\u001b[39m\u001b[38;5;241m.\u001b[39m_unwrap_value(response\u001b[38;5;241m.\u001b[39mget(\u001b[38;5;124m\"\u001b[39m\u001b[38;5;124mvalue\u001b[39m\u001b[38;5;124m\"\u001b[39m, \u001b[38;5;28;01mNone\u001b[39;00m))\n\u001b[0;32m    349\u001b[0m     \u001b[38;5;28;01mreturn\u001b[39;00m response\n",
      "File \u001b[1;32mc:\\Users\\darce\\anaconda3\\Lib\\site-packages\\selenium\\webdriver\\remote\\errorhandler.py:229\u001b[0m, in \u001b[0;36mErrorHandler.check_response\u001b[1;34m(self, response)\u001b[0m\n\u001b[0;32m    227\u001b[0m         alert_text \u001b[38;5;241m=\u001b[39m value[\u001b[38;5;124m\"\u001b[39m\u001b[38;5;124malert\u001b[39m\u001b[38;5;124m\"\u001b[39m]\u001b[38;5;241m.\u001b[39mget(\u001b[38;5;124m\"\u001b[39m\u001b[38;5;124mtext\u001b[39m\u001b[38;5;124m\"\u001b[39m)\n\u001b[0;32m    228\u001b[0m     \u001b[38;5;28;01mraise\u001b[39;00m exception_class(message, screen, stacktrace, alert_text)  \u001b[38;5;66;03m# type: ignore[call-arg]  # mypy is not smart enough here\u001b[39;00m\n\u001b[1;32m--> 229\u001b[0m \u001b[38;5;28;01mraise\u001b[39;00m exception_class(message, screen, stacktrace)\n",
      "\u001b[1;31mNoSuchWindowException\u001b[0m: Message: no such window: target window already closed\nfrom unknown error: web view not found\n  (Session info: chrome=123.0.6312.123)\nStacktrace:\n\tGetHandleVerifier [0x00007FF6E6F07032+63090]\n\t(No symbol) [0x00007FF6E6E72C82]\n\t(No symbol) [0x00007FF6E6D0EC65]\n\t(No symbol) [0x00007FF6E6CECA7C]\n\t(No symbol) [0x00007FF6E6D7D687]\n\t(No symbol) [0x00007FF6E6D92AC1]\n\t(No symbol) [0x00007FF6E6D76D83]\n\t(No symbol) [0x00007FF6E6D483A8]\n\t(No symbol) [0x00007FF6E6D49441]\n\tGetHandleVerifier [0x00007FF6E73025AD+4238317]\n\tGetHandleVerifier [0x00007FF6E733F70D+4488525]\n\tGetHandleVerifier [0x00007FF6E73379EF+4456495]\n\tGetHandleVerifier [0x00007FF6E6FE0576+953270]\n\t(No symbol) [0x00007FF6E6E7E54F]\n\t(No symbol) [0x00007FF6E6E79224]\n\t(No symbol) [0x00007FF6E6E7935B]\n\t(No symbol) [0x00007FF6E6E69B94]\n\tBaseThreadInitThunk [0x00007FFD19AA257D+29]\n\tRtlUserThreadStart [0x00007FFD1AFAAA48+40]\n"
     ]
    }
   ],
   "source": [
    "from selenium import webdriver\n",
    "from selenium.webdriver.common.by import By\n",
    "import time\n",
    "\n",
    "# Initialize Chrome WebDriver\n",
    "driver = webdriver.Chrome()\n",
    "\n",
    "# URL to scrape\n",
    "base_url = \"https://www.intersport.fr/sports/cycle/velos/velos-femme/\"\n",
    "\n",
    "# List to store all product information\n",
    "bike_information_women = []\n",
    "\n",
    "# Loop through all pages\n",
    "for page_number in range(1, 3):  # 2 pages in total\n",
    "    # Construct page URL\n",
    "    page_url = f\"{base_url}?page={page_number}\"\n",
    "    \n",
    "    # Navigate to the page\n",
    "    driver.get(page_url)\n",
    "    \n",
    "    # Wait for the page to load\n",
    "    driver.implicitly_wait(30)  # Adjust the wait time as needed\n",
    "    time.sleep(15)  # Adding a 2-second delay\n",
    "    \n",
    "    # Find all elements with the specified class for product names\n",
    "    product_names = driver.find_elements(By.CLASS_NAME, \"product-box__title\")\n",
    "    \n",
    "    # Find all elements with the specified class for product prices\n",
    "    product_prices = driver.find_elements(By.CLASS_NAME, 'product-box__price')\n",
    "    \n",
    "    # Extract the product information\n",
    "    for name, price in zip(product_names, product_prices):\n",
    "        product_name = name.text.strip()\n",
    "        # Extract price from the span element inside the div\n",
    "        price_span = price.find_element(By.TAG_NAME, 'span')\n",
    "        product_price = price_span.text.strip()\n",
    "        \n",
    "        # Store product information in a dictionary\n",
    "        product_info = {\n",
    "            \"product_name\": product_name,\n",
    "            \"product_price\": product_price\n",
    "        }\n",
    "        \n",
    "        # Append the dictionary to the list\n",
    "        bike_information_women.append(product_info)\n",
    "\n",
    "# Quit the WebDriver\n",
    "driver.quit()"
   ]
  }
 ],
 "metadata": {
  "kernelspec": {
   "display_name": "Python 3",
   "language": "python",
   "name": "python3"
  },
  "language_info": {
   "codemirror_mode": {
    "name": "ipython",
    "version": 3
   },
   "file_extension": ".py",
   "mimetype": "text/x-python",
   "name": "python",
   "nbconvert_exporter": "python",
   "pygments_lexer": "ipython3",
   "version": "3.11.5"
  }
 },
 "nbformat": 4,
 "nbformat_minor": 2
}
